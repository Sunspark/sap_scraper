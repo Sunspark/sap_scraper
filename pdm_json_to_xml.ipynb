{
    "metadata": {
        "kernelspec": {
            "name": "python3",
            "display_name": "Python 3 (ipykernel)",
            "language": "python"
        },
        "language_info": {
            "name": "python",
            "version": "3.8.10",
            "mimetype": "text/x-python",
            "codemirror_mode": {
                "name": "ipython",
                "version": 3
            },
            "pygments_lexer": "ipython3",
            "nbconvert_exporter": "python",
            "file_extension": ".py"
        }
    },
    "nbformat_minor": 2,
    "nbformat": 4,
    "cells": [
        {
            "cell_type": "code",
            "source": [
                "import json\r\n",
                "import os\r\n",
                "\r\n",
                "from pathlib import Path\r\n",
                "from jinja2 import Template, Environment\r\n",
                "from operator import itemgetter"
            ],
            "metadata": {
                "azdata_cell_guid": "363466ab-3321-4c42-bd45-c42dd9d1eae7",
                "language": "python"
            },
            "outputs": [],
            "execution_count": 207
        },
        {
            "cell_type": "code",
            "source": [
                "srcpath = \"\"\r\n",
                "template_filename = \"pdm_template.tem\"\r\n",
                "data_filename = \"pdm.json\"\r\n",
                "\r\n",
                "template = Path(os.path.join(srcpath, template_filename)).read_text()\r\n",
                "\r\n",
                "with open(os.path.join(srcpath, data_filename)) as jsonfile:\r\n",
                "  data = json.load(jsonfile)\r\n",
                ""
            ],
            "metadata": {
                "language": "python",
                "azdata_cell_guid": "095fc199-3875-4129-bfbe-5662c9cb799c"
            },
            "outputs": [],
            "execution_count": 208
        },
        {
            "cell_type": "code",
            "source": [
                "j2_template = Template(template, autoescape=True)\r\n",
                "\r\n",
                "rendered_template_string = j2_template.render(data)\r\n",
                "\r\n",
                "output_filename = \"rendered_pdm.xml\"\r\n",
                "with open(output_filename, \"w\") as text_file:\r\n",
                "  text_file.write(rendered_template_string)"
            ],
            "metadata": {
                "language": "python",
                "azdata_cell_guid": "59461661-03a4-4f7a-b86f-cad6e1c0ddec"
            },
            "outputs": [],
            "execution_count": 209
        }
    ]
}