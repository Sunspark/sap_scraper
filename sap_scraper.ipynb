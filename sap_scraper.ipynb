{
    "metadata": {
        "kernelspec": {
            "name": "python3",
            "display_name": "Python 3 (ipykernel)",
            "language": "python"
        },
        "language_info": {
            "name": "python",
            "version": "3.8.10",
            "mimetype": "text/x-python",
            "codemirror_mode": {
                "name": "ipython",
                "version": 3
            },
            "pygments_lexer": "ipython3",
            "nbconvert_exporter": "python",
            "file_extension": ".py"
        }
    },
    "nbformat_minor": 2,
    "nbformat": 4,
    "cells": [
        {
            "cell_type": "code",
            "source": [
                "https://help.sap.com/viewer/06e872f914a44d77b6c692b0273ca400/2.0.8/en-US/7994f4977bf7469ea8fa820777bcc792.html"
            ],
            "metadata": {
                "azdata_cell_guid": "832de890-13de-45fc-ad57-5725700a4226"
            },
            "outputs": [],
            "execution_count": null
        }
    ]
}