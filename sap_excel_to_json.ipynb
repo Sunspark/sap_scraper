{
    "metadata": {
        "kernelspec": {
            "name": "python3",
            "display_name": "Python 3 (ipykernel)",
            "language": "python"
        },
        "language_info": {
            "name": "python",
            "version": "3.8.10",
            "mimetype": "text/x-python",
            "codemirror_mode": {
                "name": "ipython",
                "version": 3
            },
            "pygments_lexer": "ipython3",
            "nbconvert_exporter": "python",
            "file_extension": ".py"
        }
    },
    "nbformat_minor": 2,
    "nbformat": 4,
    "cells": [
        {
            "cell_type": "code",
            "source": [
                "import pandas as pd\r\n",
                "import uuid\r\n",
                "from datetime import datetime\r\n",
                "import json\r\n",
                "\r\n",
                "# Set up input\r\n",
                "input_file = 'scrape_dump.xlsx'# - Reduced\r\n",
                "# Set up output\r\n",
                "output_dict = {}"
            ],
            "metadata": {
                "azdata_cell_guid": "41aa4e61-7856-4aff-8dda-b4da01b03523",
                "language": "python"
            },
            "outputs": [],
            "execution_count": 222
        },
        {
            "cell_type": "code",
            "source": [
                "# Set up basic counts and elements\r\n",
                "def get_uuid():\r\n",
                "  global uuid\r\n",
                "  uuid_str = str(uuid.uuid4())\r\n",
                "  return uuid_str;"
            ],
            "metadata": {
                "language": "python",
                "azdata_cell_guid": "0a4615ed-40ab-4ec5-ae72-c9718066e513"
            },
            "outputs": [],
            "execution_count": 223
        },
        {
            "cell_type": "code",
            "source": [
                "internal_id_int = 10\r\n",
                "def get_internal_id():\r\n",
                "  global internal_id_int\r\n",
                "  internal_id_int = internal_id_int + 1\r\n",
                "  id_str = 'o' + str(internal_id_int)\r\n",
                "  return id_str;"
            ],
            "metadata": {
                "language": "python",
                "azdata_cell_guid": "27290151-a860-4c36-a3eb-154d5c8f9ca3"
            },
            "outputs": [],
            "execution_count": 224
        },
        {
            "cell_type": "code",
            "source": [
                "def get_timestamp():\r\n",
                "  return int(datetime.timestamp(datetime.now()));"
            ],
            "metadata": {
                "language": "python",
                "azdata_cell_guid": "ef0b7f0c-367c-4d17-8fde-e60a93fd9860"
            },
            "outputs": [],
            "execution_count": 225
        },
        {
            "cell_type": "code",
            "source": [
                "def get_operator_name():\r\n",
                "  return 'Mr Fish';"
            ],
            "metadata": {
                "language": "python",
                "azdata_cell_guid": "5f49ac34-1490-41a1-82fc-45b3098ff9e5"
            },
            "outputs": [],
            "execution_count": 226
        },
        {
            "cell_type": "code",
            "source": [
                "def get_column_code(name_str):\r\n",
                "  return name_str.strip().replace(\" \", \"_\").replace(\".\", \"_\").upper();"
            ],
            "metadata": {
                "language": "python",
                "azdata_cell_guid": "e749cb9d-e5b3-4046-ba1e-0e9a527c1ae7"
            },
            "outputs": [],
            "execution_count": 227
        },
        {
            "cell_type": "code",
            "source": [
                "def convert_to_int(val):\r\n",
                "  return int(val) if val != '' else val;"
            ],
            "metadata": {
                "language": "python",
                "azdata_cell_guid": "3abacbbf-22f6-448f-8c58-71fadd27a63f"
            },
            "outputs": [],
            "execution_count": 228
        },
        {
            "cell_type": "code",
            "source": [
                "# read Domain sheet\r\n",
                "df_domain = pd.read_excel(input_file, sheet_name = \"Domain\")\r\n",
                "df_domain = df_domain.fillna('')\r\n",
                "df_domain['Length'] = df_domain['Length'].apply(lambda val: convert_to_int(val)) # converts the int column to int values, skipping the filled NaNs.\r\n",
                "df_domain['Id'] = df_domain.apply (lambda row: get_internal_id(), axis=1)\r\n",
                "df_domain['ObjectID'] = df_domain.apply (lambda row: get_uuid(), axis=1)\r\n",
                "df_domain['Code'] = df_domain.apply (lambda row: get_column_code(row['Name']), axis=1)\r\n",
                "df_domain['CreationDate'] = df_domain.apply (lambda row: get_timestamp(), axis=1)\r\n",
                "df_domain['Creator'] = df_domain.apply (lambda row: get_operator_name(), axis=1)\r\n",
                "df_domain['ModificationDate'] = df_domain.loc[:, 'CreationDate']\r\n",
                "df_domain['Modifier'] = df_domain.loc[:, 'Creator']\r\n",
                "df_domain['Index'] = df_domain.loc[:, 'Name']\r\n",
                "\r\n",
                "#df_domain"
            ],
            "metadata": {
                "language": "python",
                "azdata_cell_guid": "cd678300-1d32-44e9-86f0-301efe9604a3"
            },
            "outputs": [],
            "execution_count": 229
        },
        {
            "cell_type": "code",
            "source": [
                "#domain_list = df_domain.to_dict('records')\r\n",
                "domain_dict = df_domain.set_index('Index').T.to_dict('dict')\r\n",
                "output_dict['Domains'] = domain_dict\r\n",
                "#print(output_dict)"
            ],
            "metadata": {
                "language": "python",
                "azdata_cell_guid": "6485422f-caba-4939-836b-08e993c2d83d"
            },
            "outputs": [],
            "execution_count": 230
        },
        {
            "cell_type": "code",
            "source": [
                "# read Table sheet\r\n",
                "df_table = pd.read_excel(input_file, sheet_name = \"allTablesTable\")\r\n",
                "df_table.columns = ['Name', 'Annotation', 'Comment', 'Description']\r\n",
                "df_table['Id'] = df_table.apply (lambda row: get_internal_id(), axis=1)\r\n",
                "df_table['ObjectID'] = df_table.apply (lambda row: get_uuid(), axis=1)\r\n",
                "df_table['Code'] = df_table.apply (lambda row: get_column_code(row['Name']), axis=1)\r\n",
                "df_table['CreationDate'] = df_table.apply (lambda row: get_timestamp(), axis=1)\r\n",
                "df_table['Creator'] = df_table.apply (lambda row: get_operator_name(), axis=1)\r\n",
                "df_table['ModificationDate'] = df_table.loc[:, 'CreationDate']\r\n",
                "df_table['Modifier'] = df_table.loc[:, 'Creator']\r\n",
                "df_table['Index'] = df_table.loc[:, 'Name']\r\n",
                "\r\n",
                "#df_table"
            ],
            "metadata": {
                "language": "python",
                "azdata_cell_guid": "a1d84f51-6649-40dc-b023-cd09b3030c18"
            },
            "outputs": [],
            "execution_count": 231
        },
        {
            "cell_type": "code",
            "source": [
                "table_dict = df_table.set_index('Index').T.to_dict('dict')\r\n",
                "output_dict['Tables'] = table_dict\r\n",
                "#print(output_dict)"
            ],
            "metadata": {
                "language": "python",
                "azdata_cell_guid": "48a1422a-236a-4759-ba84-234f25e256cd"
            },
            "outputs": [],
            "execution_count": 232
        },
        {
            "cell_type": "code",
            "source": [
                "# read PK sheet\r\n",
                "df_pk = pd.read_excel('scrape_dump - Reduced.xlsx', sheet_name = \"allPkTable\")\r\n",
                "\r\n",
                "df_pk = pd.pivot_table(df_pk, index='tableName', values='pkFieldName', aggfunc=lambda x:list(x))\r\n",
                "\r\n",
                "df_pk['tableName'] = df_pk.index\r\n",
                "df_pk['Name'] = df_pk.index + '_PK'\r\n",
                "\r\n",
                "df_pk['Id'] = df_pk.apply (lambda row: get_internal_id(), axis=1)\r\n",
                "df_pk['ObjectID'] = df_pk.apply (lambda row: get_uuid(), axis=1)\r\n",
                "df_pk['Code'] = df_pk.apply (lambda row: get_column_code(row['Name']), axis=1)\r\n",
                "df_pk['CreationDate'] = df_pk.apply (lambda row: get_timestamp(), axis=1)\r\n",
                "df_pk['Creator'] = df_pk.apply (lambda row: get_operator_name(), axis=1)\r\n",
                "df_pk['ModificationDate'] = df_pk.loc[:, 'CreationDate']\r\n",
                "df_pk['Modifier'] = df_pk.loc[:, 'Creator']\r\n",
                "\r\n",
                "#df_pk"
            ],
            "metadata": {
                "language": "python",
                "azdata_cell_guid": "69b21129-4d79-452d-8c1a-08a385c124c2"
            },
            "outputs": [],
            "execution_count": 233
        },
        {
            "cell_type": "code",
            "source": [
                "for row_dict in df_pk.to_dict(orient='records'):\r\n",
                "  #print(row_dict)\r\n",
                "  output_dict['Tables'][row_dict['tableName']]['PrimaryKeyDict'] = row_dict\r\n",
                "\r\n",
                "#print(output_dict)"
            ],
            "metadata": {
                "language": "python",
                "azdata_cell_guid": "fc5cb7df-a2de-49c5-b841-d5668f6e82f6"
            },
            "outputs": [],
            "execution_count": 234
        },
        {
            "cell_type": "code",
            "source": [
                "# read Fields sheet\r\n",
                "df_column = pd.read_excel(input_file, sheet_name = \"allFieldsTable\")\r\n",
                "df_column = df_column.fillna('')\r\n",
                "df_column['isEnum'] = df_column['isEnum'].apply(lambda val: convert_to_int(val)) # converts the int column to int values, skipping the filled NaNs.\r\n",
                "df_column.columns = ['tableName', 'Name', 'Comment', 'dataElement', 'checkTable', 'dataType', 'blank', 'Length', 'Precision', 'isEnum']\r\n",
                "df_column = df_column.drop(columns=['dataElement', 'checkTable', 'blank'])\r\n",
                "\r\n",
                "df_column['Id'] = df_column.apply (lambda row: get_internal_id(), axis=1)\r\n",
                "df_column['ObjectID'] = df_column.apply (lambda row: get_uuid(), axis=1)\r\n",
                "df_column['Code'] = df_column.apply (lambda row: get_column_code(row['Name']), axis=1)\r\n",
                "df_column['CreationDate'] = df_column.apply (lambda row: get_timestamp(), axis=1)\r\n",
                "df_column['Creator'] = df_column.apply (lambda row: get_operator_name(), axis=1)\r\n",
                "df_column['ModificationDate'] = df_column.loc[:, 'CreationDate']\r\n",
                "df_column['Modifier'] = df_column.loc[:, 'Creator']\r\n",
                "\r\n",
                "#df_column"
            ],
            "metadata": {
                "language": "python",
                "azdata_cell_guid": "2d0f3a3d-e488-43fe-ac8e-4f656966fbf3"
            },
            "outputs": [],
            "execution_count": 235
        },
        {
            "cell_type": "code",
            "source": [
                "def apply_domain_to_column(row):\r\n",
                "  if (\r\n",
                "    row['dataType'] == 'CHAR'\r\n",
                "    or row['dataType'] == 'CURR'\r\n",
                "    or row['dataType'] == 'DEC'\r\n",
                "    or row['dataType'] == 'QUAN'\r\n",
                "    or row['dataType'] == 'RAW'\r\n",
                "  ):\r\n",
                "    return ''\r\n",
                "  else:\r\n",
                "    return row['dataType']\r\n",
                "\r\n",
                "def apply_datatype_to_column(row):\r\n",
                "  if (row['dataType'] == 'CHAR'):\r\n",
                "    return 'char(' + str(row['Length']) + ')'\r\n",
                "  elif (row['dataType'] == 'CURR'):\r\n",
                "    return 'decimal(' + str(row['Length']) + ',' + str(row['Precision']) + ')'\r\n",
                "  elif (row['dataType'] == 'DEC'):\r\n",
                "    return 'decimal(' + str(row['Length']) + ',' + str(row['Precision']) + ')'\r\n",
                "  elif (row['dataType'] == 'QUAN'):\r\n",
                "    return 'decimal(' + str(row['Length']) + ',' + str(row['Precision']) + ')'\r\n",
                "  elif (row['dataType'] == 'RAW'):\r\n",
                "    return 'binary(' + str(row['Length']) + ')'\r\n",
                "  else:\r\n",
                "    return ''\r\n",
                ""
            ],
            "metadata": {
                "language": "python",
                "azdata_cell_guid": "2cb70430-b359-4beb-bbe6-6a379f262fbf"
            },
            "outputs": [],
            "execution_count": 236
        },
        {
            "cell_type": "code",
            "source": [
                "df_column['Domain'] = df_column.apply (lambda row: apply_domain_to_column(row), axis=1)\r\n",
                "df_column['dataType'] = df_column.apply (lambda row: apply_datatype_to_column(row), axis=1)\r\n",
                "#df_column"
            ],
            "metadata": {
                "language": "python",
                "azdata_cell_guid": "f622e3b8-67a0-45f6-a94a-55000fdc2d5b"
            },
            "outputs": [],
            "execution_count": 237
        },
        {
            "cell_type": "code",
            "source": [
                "for row_dict in df_column.to_dict(orient='records'):\r\n",
                "  #print(row_dict)\r\n",
                "  if 'Columns' not in output_dict['Tables'][row_dict['tableName']]:\r\n",
                "    output_dict['Tables'][row_dict['tableName']]['Columns'] = {}\r\n",
                "  output_dict['Tables'][row_dict['tableName']]['Columns'][row_dict['Name']] = row_dict\r\n",
                "\r\n",
                "#print(output_dict)"
            ],
            "metadata": {
                "language": "python",
                "azdata_cell_guid": "ffbfb423-1462-40ef-867b-1f45e18c6bc7"
            },
            "outputs": [],
            "execution_count": 238
        },
        {
            "cell_type": "code",
            "source": [
                "# read Enums sheet\r\n",
                "df_enum = pd.read_excel('scrape_dump - Reduced.xlsx', sheet_name = \"allEnumTable\")\r\n",
                "\r\n",
                "#df_enum"
            ],
            "metadata": {
                "language": "python",
                "azdata_cell_guid": "755d7165-1421-47a9-8e36-5f9cbba0aab8"
            },
            "outputs": [],
            "execution_count": 239
        },
        {
            "cell_type": "code",
            "source": [
                "for row_dict in df_enum.to_dict(orient='records'):\r\n",
                "  #print(row_dict)\r\n",
                "  if 'Enums' not in output_dict['Tables'][row_dict['tableName']]['Columns'][row_dict['fieldName']]:\r\n",
                "    output_dict['Tables'][row_dict['tableName']]['Columns'][row_dict['fieldName']]['Enums'] = {}\r\n",
                "  output_dict['Tables'][row_dict['tableName']]['Columns'][row_dict['fieldName']]['Enums'][row_dict['enumCode']] = row_dict['enumDescription']\r\n",
                "\r\n",
                "#print(output_dict)"
            ],
            "metadata": {
                "language": "python",
                "azdata_cell_guid": "61857694-5095-4e76-a87f-49f9fa43297f"
            },
            "outputs": [],
            "execution_count": 240
        },
        {
            "cell_type": "code",
            "source": [
                "# read FKs sheet\r\n",
                "df_fk = pd.read_excel(input_file, sheet_name = \"allFkTable\")\r\n",
                "df_fk = df_fk.fillna('NaN')\r\n",
                "df_fk = df_fk[df_fk.fieldName != 'NaN']\r\n",
                "\r\n",
                "df_fk.columns = ['childTableName', 'Drop1', 'Drop2', 'childFieldName', 'parentTableName', 'targetTableGroup', 'parentTableField']\r\n",
                "df_fk = df_fk.drop(columns=['Drop1', 'Drop2', 'targetTableGroup'])\r\n",
                "\r\n",
                "df_fk['Name'] = df_fk['childTableName'] + '.' + df_fk['childFieldName'] + '_to_' + df_fk['parentTableName']\r\n",
                "df_fk['ReferenceId'] = df_fk.apply (lambda row: get_internal_id(), axis=1)\r\n",
                "df_fk['ReferenceObjectID'] = df_fk.apply (lambda row: get_uuid(), axis=1)\r\n",
                "df_fk['ReferenceJoinId'] = df_fk.apply (lambda row: get_internal_id(), axis=1)\r\n",
                "df_fk['ReferenceJoinObjectID'] = df_fk.apply (lambda row: get_uuid(), axis=1)\r\n",
                "df_fk['Code'] = df_fk.apply (lambda row: get_column_code(row['Name']), axis=1)\r\n",
                "df_fk['CreationDate'] = df_fk.apply (lambda row: get_timestamp(), axis=1)\r\n",
                "df_fk['Creator'] = df_fk.apply (lambda row: get_operator_name(), axis=1)\r\n",
                "df_fk['ModificationDate'] = df_fk.loc[:, 'CreationDate']\r\n",
                "df_fk['Modifier'] = df_fk.loc[:, 'Creator']\r\n",
                "\r\n",
                "#df_fk"
            ],
            "metadata": {
                "language": "python",
                "azdata_cell_guid": "1e0dcff9-ba49-40e0-8e8f-2af4f00bdbfa"
            },
            "outputs": [],
            "execution_count": 241
        },
        {
            "cell_type": "code",
            "source": [
                "fk_dict = df_fk.to_dict('records')\r\n",
                "output_dict['References'] = fk_dict\r\n",
                "#print(output_dict)"
            ],
            "metadata": {
                "language": "python",
                "azdata_cell_guid": "e0c129c3-c5bf-4641-8a3a-2b6949616875"
            },
            "outputs": [],
            "execution_count": 242
        },
        {
            "cell_type": "code",
            "source": [
                "with open('pdm.json', 'w', encoding='utf-8') as output_file:\r\n",
                "  json.dump(output_dict, output_file, ensure_ascii=False, indent=2)"
            ],
            "metadata": {
                "language": "python",
                "azdata_cell_guid": "71814645-37c0-4e0d-a6d8-70ac847999fa"
            },
            "outputs": [],
            "execution_count": 243
        }
    ]
}